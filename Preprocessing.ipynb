{
 "cells": [
  {
   "attachments": {},
   "cell_type": "markdown",
   "metadata": {},
   "source": [
    "# Import Libraries"
   ]
  },
  {
   "cell_type": "code",
   "execution_count": 1,
   "metadata": {},
   "outputs": [],
   "source": [
    "import pandas as pd\n",
    "import numpy as np\n",
    "import sklearn as sk\n",
    "import socket\n",
    "from sklearn.impute import SimpleImputer\n",
    "from sklearn.preprocessing import LabelEncoder\n",
    "from sklearn.model_selection import train_test_split\n",
    "from sklearn.preprocessing import StandardScaler\n",
    "from imblearn.under_sampling import RandomUnderSampler\n",
    "import matplotlib.pyplot as plt\n",
    "import os"
   ]
  },
  {
   "cell_type": "code",
   "execution_count": 24,
   "metadata": {},
   "outputs": [
    {
     "name": "stdout",
     "output_type": "stream",
     "text": [
      "Empty DataFrame\n",
      "Columns: [avg_ipt, bytes_in, bytes_out, dest_ip, dest_port, entropy, num_pkts_out, num_pkts_in, proto, src_ip, src_port, time_end, time_start, total_entropy, label, duration]\n",
      "Index: []\n",
      "34037856\n"
     ]
    }
   ],
   "source": [
    "directory_in_str = r\"/home/sd-work/Code/Minor-Project/Data/2021/\"\n",
    "directory = os.fsencode(directory_in_str)\n",
    "\n",
    "tmp = pd.read_csv(r\"/home/sd-work/Code/Minor-Project/2022.06.14.csv\")\n",
    "\n",
    "df =  tmp.truncate( before = len(tmp) )\n",
    "\n",
    "print(df)\n",
    "    \n",
    "\n",
    "for file in os.listdir(directory):\n",
    "    filename = os.fsdecode(file)\n",
    "    if filename.endswith(\".csv\"): \n",
    "         \n",
    "        tmp = pd.read_csv(directory_in_str + filename)\n",
    "\n",
    "        tmp = tmp.drop( tmp[ tmp[\"label\"] == \"outlier\"].index)\n",
    "\n",
    "        df = pd.concat( [df, tmp] )\n",
    "\n",
    "        continue\n",
    "    else:\n",
    "        continue\n",
    "\n",
    "print(len(df))"
   ]
  },
  {
   "cell_type": "code",
   "execution_count": 25,
   "metadata": {},
   "outputs": [],
   "source": [
    "df.to_csv(\"/home/sd-work/Code/Minor-Project/2021.csv\", index = False)"
   ]
  },
  {
   "attachments": {},
   "cell_type": "markdown",
   "metadata": {},
   "source": [
    "# Import dataset"
   ]
  },
  {
   "cell_type": "code",
   "execution_count": 2,
   "metadata": {},
   "outputs": [],
   "source": [
    "df = pd.read_csv(r\"/home/sd-work/Code/Minor-Project/2021.csv\")\n",
    "\n",
    "X = df.drop(columns = \"label\", axis=1)\n",
    "y = pd.DataFrame(df[\"label\"])\n",
    "\n",
    "irrelevant_labels = [\"dest_ip\", \"src_ip\", \"time_end\", \"time_start\"]\n",
    "\n",
    "X = X.drop( columns = irrelevant_labels, axis = 1 )\n"
   ]
  },
  {
   "cell_type": "code",
   "execution_count": 3,
   "metadata": {},
   "outputs": [
    {
     "name": "stdout",
     "output_type": "stream",
     "text": [
      "label    \n",
      "benign       24126259\n",
      "malicious     9911597\n",
      "dtype: int64\n"
     ]
    }
   ],
   "source": [
    "print( y.value_counts())"
   ]
  },
  {
   "attachments": {},
   "cell_type": "markdown",
   "metadata": {},
   "source": [
    "# Sampling the datset"
   ]
  },
  {
   "cell_type": "code",
   "execution_count": 4,
   "metadata": {},
   "outputs": [],
   "source": [
    "rus = RandomUnderSampler(random_state=0)\n",
    "\n",
    "X, y = rus.fit_resample(X, y)"
   ]
  },
  {
   "cell_type": "code",
   "execution_count": 5,
   "metadata": {},
   "outputs": [
    {
     "name": "stdout",
     "output_type": "stream",
     "text": [
      "label    \n",
      "benign       9911597\n",
      "malicious    9911597\n",
      "dtype: int64\n"
     ]
    }
   ],
   "source": [
    "print( y.value_counts())"
   ]
  },
  {
   "attachments": {},
   "cell_type": "markdown",
   "metadata": {},
   "source": [
    "## Imputing missing values"
   ]
  },
  {
   "cell_type": "code",
   "execution_count": 6,
   "metadata": {},
   "outputs": [],
   "source": [
    "\n",
    "sim_imputer = SimpleImputer(strategy=\"most_frequent\")\n",
    "\n",
    "X = pd.DataFrame( sim_imputer.fit_transform(X), columns = X.columns)\n",
    "y = pd.DataFrame( sim_imputer.fit_transform(y), columns = y.columns)\n"
   ]
  },
  {
   "cell_type": "code",
   "execution_count": 7,
   "metadata": {},
   "outputs": [
    {
     "name": "stdout",
     "output_type": "stream",
     "text": [
      "19823194\n",
      "avg_ipt          0\n",
      "bytes_in         0\n",
      "bytes_out        0\n",
      "dest_port        0\n",
      "entropy          0\n",
      "num_pkts_out     0\n",
      "num_pkts_in      0\n",
      "proto            0\n",
      "src_port         0\n",
      "total_entropy    0\n",
      "duration         0\n",
      "dtype: int64\n"
     ]
    }
   ],
   "source": [
    "print(len(X.iloc[ : , 0]))\n",
    "print(X.isna().sum())"
   ]
  },
  {
   "cell_type": "code",
   "execution_count": 9,
   "metadata": {},
   "outputs": [
    {
     "name": "stdout",
     "output_type": "stream",
     "text": [
      "0    6\n",
      "1    6\n",
      "2    6\n",
      "3    6\n",
      "4    6\n",
      "Name: proto, dtype: int64\n"
     ]
    }
   ],
   "source": [
    "X[\"proto\"] = X[\"proto\"].astype(int)\n",
    "print(X[\"proto\"].head())"
   ]
  },
  {
   "attachments": {},
   "cell_type": "markdown",
   "metadata": {},
   "source": [
    "# Replacing protocol no with name"
   ]
  },
  {
   "cell_type": "code",
   "execution_count": 11,
   "metadata": {},
   "outputs": [
    {
     "name": "stdout",
     "output_type": "stream",
     "text": [
      "{0: 'HOPOPTS', 1: 'ICMP', 2: 'IGMP', 41: 'IPV6', 4: 'IPIP', 6: 'TCP', 8: 'EGP', 12: 'PUP', 17: 'UDP', 136: 'UDPLITE', 22: 'IDP', 29: 'TP', 43: 'ROUTING', 44: 'FRAGMENT', 46: 'RSVP', 47: 'GRE', 50: 'ESP', 51: 'AH', 58: 'ICMPV6', 59: 'NONE', 60: 'DSTOPTS', 103: 'PIM', 132: 'SCTP', 262: 'MPTCP', 255: 'RAW'}\n"
     ]
    }
   ],
   "source": [
    "prefix = \"IPPROTO_\"\n",
    "\n",
    "table = {num:name[len(prefix):] \n",
    "          for name,num in vars(socket).items()\n",
    "            if name.startswith(prefix)}\n",
    "\n",
    "print(table)\n",
    "\n",
    "\n",
    "\n",
    "for i in range(len(X.iloc[ : , 7 ])):\n",
    "    X.iloc[ i , 7] = (table[X.iloc[ i , 7]]).lower()\n"
   ]
  },
  {
   "cell_type": "code",
   "execution_count": 22,
   "metadata": {},
   "outputs": [
    {
     "name": "stdout",
     "output_type": "stream",
     "text": [
      "   Unnamed: 0  avg_ipt  bytes_in  bytes_out  dest_port   entropy  \\\n",
      "0    939136.0      0.0       0.0        0.0    33122.0  0.000000   \n",
      "1    462582.0      0.0       0.0    13784.0     9200.0  1.934536   \n",
      "2   1475874.0      0.0       0.0      330.0    39290.0  6.844364   \n",
      "3    297891.0      0.0       0.0     2896.0     9200.0  5.027503   \n",
      "4    631640.0      0.0       0.0     1412.0     9200.0  5.296583   \n",
      "5    910737.0      0.0       0.0     5334.0     9200.0  3.950911   \n",
      "6    270184.0      0.0       0.0        0.0    45506.0  0.000000   \n",
      "7    810926.0     10.5     354.0      502.0     9200.0  6.457975   \n",
      "8    362616.0      0.0       0.0     7240.0     9200.0  3.625452   \n",
      "9     53947.0      0.0       0.0    14480.0     9200.0  2.042063   \n",
      "\n",
      "   num_pkts_out num_pkts_in proto  src_port  total_entropy  duration  \n",
      "0           1.0     hopopts     6    9200.0         0.0000  0.000000  \n",
      "1          10.0     hopopts     6   44798.0     26665.6480  0.000133  \n",
      "2           1.0     hopopts     6    9200.0      2258.6401  0.000000  \n",
      "3           2.0     hopopts     6   53940.0     14559.6500  0.000012  \n",
      "4           1.0     hopopts     6   60764.0      7478.7754  0.000000  \n",
      "5           4.0     hopopts     6   39454.0     21074.1560  0.000044  \n",
      "6           2.0     hopopts     6    9200.0         0.0000  0.000108  \n",
      "7           2.0        igmp     6   53378.0      5528.0270  0.022022  \n",
      "8           5.0     hopopts     6   43274.0     26248.2730  0.000024  \n",
      "9          10.0     hopopts     6   38526.0     29569.0800  0.000069  \n"
     ]
    }
   ],
   "source": [
    "print(X.iloc[:10 , :])\n"
   ]
  },
  {
   "attachments": {},
   "cell_type": "markdown",
   "metadata": {},
   "source": [
    "# One hot encoding categorical variables"
   ]
  },
  {
   "cell_type": "code",
   "execution_count": 12,
   "metadata": {},
   "outputs": [
    {
     "name": "stderr",
     "output_type": "stream",
     "text": [
      "/tmp/ipykernel_863346/442784604.py:1: FutureWarning: In a future version of pandas all arguments of concat except for the argument 'objs' will be keyword-only.\n",
      "  X = pd.concat((X,pd.get_dummies(X.proto)),1)\n"
     ]
    },
    {
     "name": "stdout",
     "output_type": "stream",
     "text": [
      "<bound method NDFrame.head of              avg_ipt  bytes_in  bytes_out  dest_port   entropy  num_pkts_out  \\\n",
      "0           0.000000       0.0        0.0    33122.0  0.000000           1.0   \n",
      "1           0.000000       0.0    13784.0     9200.0  1.934536          10.0   \n",
      "2           0.000000       0.0      330.0    39290.0  6.844364           1.0   \n",
      "3           0.000000       0.0     2896.0     9200.0  5.027503           2.0   \n",
      "4           0.000000       0.0     1412.0     9200.0  5.296583           1.0   \n",
      "...              ...       ...        ...        ...       ...           ...   \n",
      "19823189  148.000000     270.0      191.0      445.0  4.574347           6.0   \n",
      "19823190   69.750000     270.0      191.0      445.0  4.591700           6.0   \n",
      "19823191   10.928571    1447.0     1276.0       22.0  6.877138          13.0   \n",
      "19823192   71.500000     270.0      191.0      445.0  4.591700           6.0   \n",
      "19823193   71.750000     270.0      191.0      445.0  4.591700           6.0   \n",
      "\n",
      "          num_pkts_in proto  src_port  total_entropy  duration  gre  icmp  \\\n",
      "0                 0.0   tcp    9200.0         0.0000  0.000000    0     0   \n",
      "1                 0.0   tcp   44798.0     26665.6480  0.000133    0     0   \n",
      "2                 0.0   tcp    9200.0      2258.6401  0.000000    0     0   \n",
      "3                 0.0   tcp   53940.0     14559.6500  0.000012    0     0   \n",
      "4                 0.0   tcp   60764.0      7478.7754  0.000000    0     0   \n",
      "...               ...   ...       ...            ...       ...  ...   ...   \n",
      "19823189          6.0   tcp   65201.0      2108.7737  1.143025    0     0   \n",
      "19823190          6.0   tcp   60293.0      2116.7737  0.533233    0     0   \n",
      "19823191         13.0   tcp   65346.0     18726.4470  0.195214    0     0   \n",
      "19823192          6.0   tcp   60049.0      2116.7737  0.549680    0     0   \n",
      "19823193          6.0   tcp   60134.0      2116.7737  0.540784    0     0   \n",
      "\n",
      "          icmpv6  igmp  ipv6  tcp  udp  other_proto  \n",
      "0              0     0     0    1    0            0  \n",
      "1              0     0     0    1    0            0  \n",
      "2              0     0     0    1    0            0  \n",
      "3              0     0     0    1    0            0  \n",
      "4              0     0     0    1    0            0  \n",
      "...          ...   ...   ...  ...  ...          ...  \n",
      "19823189       0     0     0    1    0            0  \n",
      "19823190       0     0     0    1    0            0  \n",
      "19823191       0     0     0    1    0            0  \n",
      "19823192       0     0     0    1    0            0  \n",
      "19823193       0     0     0    1    0            0  \n",
      "\n",
      "[19823194 rows x 19 columns]>\n"
     ]
    }
   ],
   "source": [
    "X = pd.concat((X,pd.get_dummies(X.proto)),1)\n",
    "\n",
    "oth = [ 0 for i in range(X.shape[0]) ]\n",
    "\n",
    "others = pd.DataFrame( oth , columns= [\"other_proto\"])\n",
    "\n",
    "X = pd.concat((X, others), axis=1 )\n",
    "\n",
    "print(X.head)"
   ]
  },
  {
   "attachments": {},
   "cell_type": "markdown",
   "metadata": {},
   "source": [
    "# Label Encoding"
   ]
  },
  {
   "cell_type": "code",
   "execution_count": 13,
   "metadata": {},
   "outputs": [
    {
     "name": "stderr",
     "output_type": "stream",
     "text": [
      "/home/sd-work/.local/lib/python3.10/site-packages/sklearn/preprocessing/_label.py:115: DataConversionWarning: A column-vector y was passed when a 1d array was expected. Please change the shape of y to (n_samples, ), for example using ravel().\n",
      "  y = column_or_1d(y, warn=True)\n"
     ]
    }
   ],
   "source": [
    "le = LabelEncoder()\n",
    "\n",
    "\n",
    "y = le.fit_transform(y)\n",
    "\n",
    "y = pd.DataFrame( data = y, columns = [\"label\"] )\n",
    "\n",
    "import pickle\n",
    "\n",
    "with open('enc.pickle', 'wb') as file:\n",
    "    pickle.dump(le, file, pickle.HIGHEST_PROTOCOL)"
   ]
  },
  {
   "cell_type": "code",
   "execution_count": 14,
   "metadata": {},
   "outputs": [],
   "source": [
    "X = X.drop( columns = [\"proto\"],axis = 1 )\n"
   ]
  },
  {
   "attachments": {},
   "cell_type": "markdown",
   "metadata": {},
   "source": [
    "# Split the dataset"
   ]
  },
  {
   "cell_type": "code",
   "execution_count": 15,
   "metadata": {},
   "outputs": [],
   "source": [
    "X_train, X_test, y_train, y_test = train_test_split(X, y, test_size = 0.2, random_state = 1)"
   ]
  },
  {
   "attachments": {},
   "cell_type": "markdown",
   "metadata": {},
   "source": [
    "# Standardization"
   ]
  },
  {
   "cell_type": "code",
   "execution_count": 16,
   "metadata": {},
   "outputs": [],
   "source": [
    "mean = X_train.iloc[ : , : 10].mean()\n",
    "std = X_train.iloc[ : , : 10].std()\n",
    "\n",
    "X_train.iloc[ : , : 10] = ( X_train.iloc[ : , : 10] - mean ) / (std)\n",
    "X_test.iloc[ : , : 10] = ( X_test.iloc[ : , : 10] - mean ) / (std)"
   ]
  },
  {
   "cell_type": "code",
   "execution_count": 20,
   "metadata": {},
   "outputs": [
    {
     "name": "stdout",
     "output_type": "stream",
     "text": [
      "            avg_ipt      bytes_in     bytes_out     dest_port       entropy  \\\n",
      "count  1.585856e+07  1.585856e+07  1.585856e+07  1.585856e+07  1.585856e+07   \n",
      "mean  -3.066097e-17  1.050364e-17 -3.760933e-18 -4.335983e-17 -1.182615e-16   \n",
      "std    1.000000e+00  1.000000e+00  1.000000e+00  1.000000e+00  1.000000e+00   \n",
      "min   -3.009640e-02 -1.989271e-01 -4.862600e-01 -7.567246e-01 -1.299397e+00   \n",
      "25%   -3.009640e-02 -1.989271e-01 -4.862600e-01 -7.315256e-01 -1.299397e+00   \n",
      "50%   -3.009640e-02 -1.989271e-01 -4.549175e-01 -2.346416e-01  2.123823e-01   \n",
      "75%   -3.009615e-02 -1.208331e-01 -1.103612e-02 -2.346416e-01  6.709507e-01   \n",
      "max    9.460455e+01  2.807410e+01  1.026781e+01  2.962613e+00  5.492875e+01   \n",
      "\n",
      "       num_pkts_out   num_pkts_in      src_port  total_entropy      duration  \\\n",
      "count  1.585856e+07  1.585856e+07  1.585856e+07   1.585856e+07  1.585856e+07   \n",
      "mean  -1.648824e-19 -2.712809e-17  3.069143e-18   3.165510e-16 -5.946857e-18   \n",
      "std    1.000000e+00  1.000000e+00  1.000000e+00   1.000000e+00  1.000000e+00   \n",
      "min   -3.518968e-01 -2.851361e-01 -1.941083e+00  -2.313808e-01 -1.216995e-01   \n",
      "25%   -2.890478e-01 -2.851361e-01 -7.082382e-01  -2.313808e-01 -1.216995e-01   \n",
      "50%   -1.633497e-01 -1.968286e-01  2.235701e-01  -1.873544e-01 -1.216768e-01   \n",
      "75%    2.519749e-02 -2.021372e-02  8.092438e-01   1.957418e-01 -1.012399e-01   \n",
      "max    1.567461e+01  2.223327e+01  1.335470e+00   1.720008e+02  1.691894e+03   \n",
      "\n",
      "                gre          icmp        icmpv6          igmp          ipv6  \\\n",
      "count  1.585856e+07  1.585856e+07  1.585856e+07  1.585856e+07  1.585856e+07   \n",
      "mean   2.333126e-06  1.610021e-02  9.458617e-07  6.936319e-07  1.261149e-07   \n",
      "std    1.527455e-03  1.258610e-01  9.725538e-04  8.328454e-04  3.551266e-04   \n",
      "min    0.000000e+00  0.000000e+00  0.000000e+00  0.000000e+00  0.000000e+00   \n",
      "25%    0.000000e+00  0.000000e+00  0.000000e+00  0.000000e+00  0.000000e+00   \n",
      "50%    0.000000e+00  0.000000e+00  0.000000e+00  0.000000e+00  0.000000e+00   \n",
      "75%    0.000000e+00  0.000000e+00  0.000000e+00  0.000000e+00  0.000000e+00   \n",
      "max    1.000000e+00  1.000000e+00  1.000000e+00  1.000000e+00  1.000000e+00   \n",
      "\n",
      "                tcp           udp  other_proto  \n",
      "count  1.585856e+07  1.585856e+07   15858555.0  \n",
      "mean   9.672111e-01  1.668456e-02          0.0  \n",
      "std    1.780836e-01  1.280866e-01          0.0  \n",
      "min    0.000000e+00  0.000000e+00          0.0  \n",
      "25%    1.000000e+00  0.000000e+00          0.0  \n",
      "50%    1.000000e+00  0.000000e+00          0.0  \n",
      "75%    1.000000e+00  0.000000e+00          0.0  \n",
      "max    1.000000e+00  1.000000e+00          0.0  \n"
     ]
    }
   ],
   "source": [
    "print(X_train.describe())"
   ]
  },
  {
   "cell_type": "code",
   "execution_count": 24,
   "metadata": {},
   "outputs": [
    {
     "name": "stdout",
     "output_type": "stream",
     "text": [
      "avg_ipt          4.538472e+07\n",
      "bytes_in         2.317722e+03\n",
      "bytes_out        6.093970e+03\n",
      "dest_port        1.761980e+04\n",
      "entropy          2.380083e+00\n",
      "num_pkts_out     1.591114e+01\n",
      "num_pkts_in      1.132407e+01\n",
      "src_port         2.000090e+04\n",
      "total_entropy    4.789522e+04\n",
      "duration         6.205439e+00\n",
      "dtype: float64\n"
     ]
    }
   ],
   "source": [
    "print(std.astype(float))"
   ]
  },
  {
   "cell_type": "code",
   "execution_count": 26,
   "metadata": {},
   "outputs": [],
   "source": [
    "std.to_json(r\"/home/sd-work/Code/Minor-Project/std.json\")\n",
    "mean.to_json(r\"/home/sd-work/Code/Minor-Project/mean.json\")"
   ]
  },
  {
   "cell_type": "code",
   "execution_count": 28,
   "metadata": {},
   "outputs": [],
   "source": [
    "X_train.to_csv(r\"/home/sd-work/Code/Minor-Project/Preprocessed/X_train.csv\", index = False)\n",
    "X_test.to_csv(r\"/home/sd-work/Code/Minor-Project/Preprocessed/X_test.csv\", index = False)\n",
    "y_train.to_csv(r\"/home/sd-work/Code/Minor-Project/Preprocessed/y_train.csv\", index = False)\n",
    "y_test.to_csv(r\"/home/sd-work/Code/Minor-Project/Preprocessed/y_test.csv\", index = False )"
   ]
  },
  {
   "cell_type": "code",
   "execution_count": null,
   "metadata": {},
   "outputs": [],
   "source": []
  }
 ],
 "metadata": {
  "kernelspec": {
   "display_name": ".venv",
   "language": "python",
   "name": "python3"
  },
  "language_info": {
   "codemirror_mode": {
    "name": "ipython",
    "version": 3
   },
   "file_extension": ".py",
   "mimetype": "text/x-python",
   "name": "python",
   "nbconvert_exporter": "python",
   "pygments_lexer": "ipython3",
   "version": "3.10.6"
  },
  "orig_nbformat": 4
 },
 "nbformat": 4,
 "nbformat_minor": 2
}
